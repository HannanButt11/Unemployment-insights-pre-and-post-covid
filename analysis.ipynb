# Upload the ZIP file manually
from google.colab import files
uploaded = files.upload()

# Extract ZIP contents
import zipfile, io
zip_file = next(iter(uploaded))
with zipfile.ZipFile(io.BytesIO(uploaded[zip_file])) as z:
    z.extractall("data")

# Load CSV
import pandas as pd

df = pd.read_csv("data/Unemployment_Rate_upto_11_2020.csv")
df.columns = df.columns.str.strip()
df['Date'] = pd.to_datetime(df['Date'])
df.rename(columns={'Region': 'State'}, inplace=True)

# Preview
df.head()

#Nation unemployment trend overtime

import matplotlib.pyplot as plt
import seaborn as sns

# Plot average unemployment rate over time
plt.figure(figsize=(12, 6))
national_trend = df.groupby('Date')['Estimated Unemployment Rate (%)'].mean()
sns.lineplot(x=national_trend.index, y=national_trend.values, marker='o', color='teal')

plt.title(" National Unemployment Rate Over Time")
plt.xlabel("Date")
plt.ylabel("Unemployment Rate (%)")
plt.xticks(rotation=45)
plt.tight_layout()
plt.grid(True)
plt.show()

#Impact of covid pre vs post march
# Create COVID period column
df['Period'] = df['Date'].apply(lambda d: 'Pre-COVID' if d < pd.Timestamp('2020-03-01') else 'Post-COVID')

# Compare average unemployment rate
plt.figure(figsize=(6, 5))
sns.barplot(data=df, x='Period', y='Estimated Unemployment Rate (%)', palette='muted', errorbar=None)
plt.title(" Unemployment Rate: Pre vs Post COVID-19")
plt.tight_layout()
plt.show()


#Seasonal Decomposition (if enough data points)
from statsmodels.tsa.seasonal import seasonal_decompose

# Decompose monthly national unemployment time series
ts = df.groupby('Date')['Estimated Unemployment Rate (%)'].mean()

if len(ts) >= 24:
    result = seasonal_decompose(ts, model='additive', period=12)
    result.plot()
    plt.suptitle("Seasonal Decomposition of Unemployment Rate", y=1.02)
    plt.tight_layout()
    plt.show()
else:
    print("Not enough data points for seasonal decomposition (need ~24 monthly records).")

#State wise Unemployment Comparison (Top 10 States)
# Find top 10 most frequent states
top_states = df['State'].value_counts().head(10).index
filtered_df = df[df['State'].isin(top_states)]

plt.figure(figsize=(14, 6))
sns.boxplot(data=filtered_df, x='State', y='Estimated Unemployment Rate (%)', palette='Set3' , hue = 'State' , legend = False)
plt.title(" Unemployment Rate Distribution by State (Top 10)")
plt.xticks(rotation=45)
plt.tight_layout()
plt.show()



